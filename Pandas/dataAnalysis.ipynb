{
 "cells": [
  {
   "attachments": {},
   "cell_type": "markdown",
   "metadata": {},
   "source": [
    "# PANDAS\n",
    "\n",
    "### Pandas is a library that is used for data analysis and manipulation.\n",
    "### It provides powerful tools for working with structured data.\n",
    "### The main data structures are DataFrames and Series"
   ]
  },
  {
   "cell_type": "code",
   "execution_count": 2,
   "metadata": {},
   "outputs": [
    {
     "name": "stdout",
     "output_type": "stream",
     "text": [
      "     Name  Age    City\n",
      "0    John   25  Berlin\n",
      "1    Emma   30  Lisbon\n",
      "2     Bob   18  Dublin\n",
      "3  Alioce   21   Perth\n"
     ]
    }
   ],
   "source": [
    "# DataFrames Common operations\n",
    "# Creating a DataFrame ---using pd.DataFrame()--- can be created from a dictionary, list of dictionaries, Numpy Array or CVS file\n",
    "import pandas as pd \n",
    "data = {'Name': ['John', 'Emma', 'Bob', 'Alioce'],\n",
    "        'Age': [25, 30, 18, 21],\n",
    "        'City': ['Berlin', 'Lisbon', 'Dublin', 'Perth']}\n",
    "df = pd.DataFrame(data)\n",
    "print(df)\n"
   ]
  },
  {
   "cell_type": "code",
   "execution_count": 3,
   "metadata": {},
   "outputs": [
    {
     "name": "stdout",
     "output_type": "stream",
     "text": [
      "0      John\n",
      "1      Emma\n",
      "2       Bob\n",
      "3    Alioce\n",
      "Name: Name, dtype: object\n",
      "0    25\n",
      "1    30\n",
      "2    18\n",
      "3    21\n",
      "Name: Age, dtype: int64\n",
      "0    Berlin\n",
      "1    Lisbon\n",
      "2    Dublin\n",
      "3     Perth\n",
      "Name: City, dtype: object\n"
     ]
    }
   ],
   "source": [
    "# Accessing and manipulating data\n",
    "\n",
    "# accessing a column\n",
    "print(df['Name'])\n",
    "print(df['Age'])\n",
    "print(df['City'])"
   ]
  },
  {
   "cell_type": "code",
   "execution_count": 4,
   "metadata": {},
   "outputs": [
    {
     "name": "stdout",
     "output_type": "stream",
     "text": [
      "Name      John\n",
      "Age         25\n",
      "City    Berlin\n",
      "Name: 0, dtype: object\n",
      "Name      Emma\n",
      "Age         30\n",
      "City    Lisbon\n",
      "Name: 1, dtype: object\n",
      "Name       Bob\n",
      "Age         18\n",
      "City    Dublin\n",
      "Name: 2, dtype: object\n",
      "Name    Alioce\n",
      "Age         21\n",
      "City     Perth\n",
      "Name: 3, dtype: object\n"
     ]
    }
   ],
   "source": [
    "# Accessing a row\n",
    "# loc --- is used for label-based indexing, which means you can use column and row labels \n",
    "# to access and manipulate data in a DataFrame. \n",
    "# The syntax for using loc is df.loc[row_label, column_label], where row_label and column_label are \n",
    "# the labels of the row(s) and column(s) you want to access. \n",
    "print(df.loc[0])\n",
    "print(df.loc[1])\n",
    "print(df.loc[2])\n",
    "print(df.loc[3])"
   ]
  },
  {
   "cell_type": "code",
   "execution_count": 5,
   "metadata": {},
   "outputs": [
    {
     "name": "stdout",
     "output_type": "stream",
     "text": [
      "Empty DataFrame\n",
      "Columns: [Name, Age, City]\n",
      "Index: []\n"
     ]
    }
   ],
   "source": [
    "# Using iloc to slice and access elements\n",
    "print(df.iloc[1:1])"
   ]
  },
  {
   "cell_type": "code",
   "execution_count": 6,
   "metadata": {},
   "outputs": [],
   "source": [
    "# Changing a value\n",
    "df.loc[3, 'City'] = 'London'"
   ]
  },
  {
   "cell_type": "code",
   "execution_count": 7,
   "metadata": {},
   "outputs": [
    {
     "name": "stdout",
     "output_type": "stream",
     "text": [
      "     Name  Age    City Gender          Occupation\n",
      "0    John   25  Berlin      M     DevOps Engineer\n",
      "1    Emma   30  Lisbon      F     Cloud Associate\n",
      "2     Bob   18  Dublin      M  Software Developer\n",
      "3  Alioce   21  London      F     Product Manager\n"
     ]
    }
   ],
   "source": [
    "# Adding a new column\n",
    "df['Gender'] = ['M', 'F', 'M', 'F']\n",
    "df['Occupation'] = ['DevOps Engineer', 'Cloud Associate', 'Software Developer', 'Product Manager']\n",
    "print(df)"
   ]
  },
  {
   "cell_type": "code",
   "execution_count": 8,
   "metadata": {},
   "outputs": [
    {
     "name": "stdout",
     "output_type": "stream",
     "text": [
      "   Name  Age    City Gender          Occupation\n",
      "1  Emma   30  Lisbon      F     Cloud Associate\n",
      "2   Bob   18  Dublin      M  Software Developer\n"
     ]
    }
   ],
   "source": [
    "# Slicing rows\n",
    "print(df[1:3])"
   ]
  },
  {
   "cell_type": "code",
   "execution_count": 9,
   "metadata": {},
   "outputs": [
    {
     "name": "stdout",
     "output_type": "stream",
     "text": [
      "<class 'pandas.core.frame.DataFrame'>\n",
      "RangeIndex: 4 entries, 0 to 3\n",
      "Data columns (total 5 columns):\n",
      " #   Column      Non-Null Count  Dtype \n",
      "---  ------      --------------  ----- \n",
      " 0   Name        4 non-null      object\n",
      " 1   Age         4 non-null      int64 \n",
      " 2   City        4 non-null      object\n",
      " 3   Gender      4 non-null      object\n",
      " 4   Occupation  4 non-null      object\n",
      "dtypes: int64(1), object(4)\n",
      "memory usage: 288.0+ bytes\n",
      "None\n"
     ]
    }
   ],
   "source": [
    "print(df.info())"
   ]
  },
  {
   "cell_type": "code",
   "execution_count": 10,
   "metadata": {},
   "outputs": [
    {
     "name": "stdout",
     "output_type": "stream",
     "text": [
      "             Age\n",
      "count   4.000000\n",
      "mean   23.500000\n",
      "std     5.196152\n",
      "min    18.000000\n",
      "25%    20.250000\n",
      "50%    23.000000\n",
      "75%    26.250000\n",
      "max    30.000000\n"
     ]
    }
   ],
   "source": [
    "print(df.describe())"
   ]
  },
  {
   "cell_type": "code",
   "execution_count": 13,
   "metadata": {},
   "outputs": [
    {
     "name": "stdout",
     "output_type": "stream",
     "text": [
      "     Name  Age    City Gender          Occupation\n",
      "0    John   25  Berlin      M     DevOps Engineer\n",
      "1    Emma   30  Lisbon      F     Cloud Associate\n",
      "2     Bob   18  Dublin      M  Software Developer\n",
      "3  Alioce   21  London      F     Product Manager\n"
     ]
    }
   ],
   "source": [
    "df.drop('City', axis='columns')\n",
    "print(df)"
   ]
  },
  {
   "cell_type": "code",
   "execution_count": 15,
   "metadata": {},
   "outputs": [
    {
     "name": "stdout",
     "output_type": "stream",
     "text": [
      "     Name  Age    City Gender          Occupation  Country\n",
      "0    John   25  Berlin      M     DevOps Engineer  Ireland\n",
      "1    Emma   30  Lisbon      F     Cloud Associate  Germany\n",
      "2     Bob   18  Dublin      M  Software Developer   Canada\n",
      "3  Alioce   21  London      F     Product Manager         \n"
     ]
    }
   ],
   "source": [
    "df['Country'] = ['Ireland', 'Germany', 'Canada', '']\n",
    "print(df)"
   ]
  },
  {
   "cell_type": "code",
   "execution_count": 16,
   "metadata": {},
   "outputs": [
    {
     "name": "stdout",
     "output_type": "stream",
     "text": [
      "             Age\n",
      "count   4.000000\n",
      "mean   23.500000\n",
      "std     5.196152\n",
      "min    18.000000\n",
      "25%    20.250000\n",
      "50%    23.000000\n",
      "75%    26.250000\n",
      "max    30.000000\n"
     ]
    }
   ],
   "source": [
    "print(df.describe())"
   ]
  },
  {
   "cell_type": "code",
   "execution_count": 18,
   "metadata": {},
   "outputs": [
    {
     "name": "stdout",
     "output_type": "stream",
     "text": [
      "     Name  Age    City Gender          Occupation    Country\n",
      "0    John   25  Berlin      M     DevOps Engineer    Ireland\n",
      "1    Emma   30  Lisbon      F     Cloud Associate    Germany\n",
      "2     Bob   18  Dublin      M  Software Developer     Canada\n",
      "3  Alioce   21  London      F     Product Manager  Australia\n"
     ]
    }
   ],
   "source": [
    "df.loc[3, 'Country'] = 'Australia'\n",
    "print(df)"
   ]
  },
  {
   "cell_type": "code",
   "execution_count": 20,
   "metadata": {},
   "outputs": [
    {
     "name": "stdout",
     "output_type": "stream",
     "text": [
      "     Name  Age    City Gender          Occupation    Country  Salary(USD)\n",
      "0    John   25  Berlin      M     DevOps Engineer    Ireland        76000\n",
      "1    Emma   30  Lisbon      F     Cloud Associate    Germany        90000\n",
      "2     Bob   18  Dublin      M  Software Developer     Canada        52000\n",
      "3  Alioce   21  London      F     Product Manager  Australia        55000\n"
     ]
    }
   ],
   "source": [
    "df['Salary(USD)'] = [76000, 90000, 52000, 55000]\n",
    "print(df)"
   ]
  },
  {
   "cell_type": "code",
   "execution_count": 29,
   "metadata": {},
   "outputs": [
    {
     "name": "stdout",
     "output_type": "stream",
     "text": [
      "AxesSubplot(0.125,0.11;0.775x0.77)\n"
     ]
    },
    {
     "data": {
      "image/png": "[encoded data removed]",
      "text/plain": [
       "<Figure size 640x480 with 1 Axes>"
      ]
     },
     "metadata": {},
     "output_type": "display_data"
    }
   ],
   "source": [
    "print(df.plot.bar(x = 'Occupation', stacked = True))"
   ]
  }
 ],
 "metadata": {
  "kernelspec": {
   "display_name": "Python 3",
   "language": "python",
   "name": "python3"
  },
  "language_info": {
   "codemirror_mode": {
    "name": "ipython",
    "version": 3
   },
   "file_extension": ".py",
   "mimetype": "text/x-python",
   "name": "python",
   "nbconvert_exporter": "python",
   "pygments_lexer": "ipython3",
   "version": "3.9.5"
  },
  "orig_nbformat": 4
 },
 "nbformat": 4,
 "nbformat_minor": 2
}
