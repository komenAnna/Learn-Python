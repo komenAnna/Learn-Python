{
 "cells": [
  {
   "attachments": {},
   "cell_type": "markdown",
   "metadata": {},
   "source": [
    "# PANDAS\n",
    "\n",
    "### Pandas is a library that is used for data analysis and manipulation.\n",
    "### It provides powerful tools for working with structured data.\n",
    "### The main data structures are DataFrames and Series"
   ]
  },
  {
   "cell_type": "code",
   "execution_count": 9,
   "metadata": {},
   "outputs": [
    {
     "name": "stdout",
     "output_type": "stream",
     "text": [
      "     Name  Age    City\n",
      "0    John   25  Berlin\n",
      "1    Emma   30  Lisbon\n",
      "2     Bob   18  Dublin\n",
      "3  Alioce   21   Perth\n"
     ]
    }
   ],
   "source": [
    "# DataFrames Common operations\n",
    "# Creating a DataFrame ---using pd.DataFrame()--- can be created from a dictionary, list of dictionaries, Numpy Array or CVS file\n",
    "import pandas as pd \n",
    "data = {'Name': ['John', 'Emma', 'Bob', 'Alioce'],\n",
    "        'Age': [25, 30, 18, 21],\n",
    "        'City': ['Berlin', 'Lisbon', 'Dublin', 'Perth']}\n",
    "df = pd.DataFrame(data)\n",
    "print(df)\n"
   ]
  },
  {
   "cell_type": "markdown",
   "metadata": {},
   "source": []
  },
  {
   "cell_type": "code",
   "execution_count": 10,
   "metadata": {},
   "outputs": [
    {
     "name": "stdout",
     "output_type": "stream",
     "text": [
      "0      John\n",
      "1      Emma\n",
      "2       Bob\n",
      "3    Alioce\n",
      "Name: Name, dtype: object\n",
      "0    25\n",
      "1    30\n",
      "2    18\n",
      "3    21\n",
      "Name: Age, dtype: int64\n",
      "0    Berlin\n",
      "1    Lisbon\n",
      "2    Dublin\n",
      "3     Perth\n",
      "Name: City, dtype: object\n"
     ]
    }
   ],
   "source": [
    "# Accessing and manipulating data\n",
    "\n",
    "# accessing a column\n",
    "print(df['Name'])\n",
    "print(df['Age'])\n",
    "print(df['City'])"
   ]
  },
  {
   "cell_type": "code",
   "execution_count": 11,
   "metadata": {},
   "outputs": [
    {
     "name": "stdout",
     "output_type": "stream",
     "text": [
      "Name      John\n",
      "Age         25\n",
      "City    Berlin\n",
      "Name: 0, dtype: object\n",
      "Name      Emma\n",
      "Age         30\n",
      "City    Lisbon\n",
      "Name: 1, dtype: object\n",
      "Name       Bob\n",
      "Age         18\n",
      "City    Dublin\n",
      "Name: 2, dtype: object\n",
      "Name    Alioce\n",
      "Age         21\n",
      "City     Perth\n",
      "Name: 3, dtype: object\n"
     ]
    }
   ],
   "source": [
    "# Accessing a row\n",
    "# loc --- is used for label-based indexing, which means you can use column and row labels \n",
    "# to access and manipulate data in a DataFrame. \n",
    "# The syntax for using loc is df.loc[row_label, column_label], where row_label and column_label are \n",
    "# the labels of the row(s) and column(s) you want to access. \n",
    "print(df.loc[0])\n",
    "print(df.loc[1])\n",
    "print(df.loc[2])\n",
    "print(df.loc[3])"
   ]
  },
  {
   "cell_type": "code",
   "execution_count": 18,
   "metadata": {},
   "outputs": [
    {
     "name": "stdout",
     "output_type": "stream",
     "text": [
      "Empty DataFrame\n",
      "Columns: [Name, Age, City, Gender, Occupation]\n",
      "Index: []\n"
     ]
    }
   ],
   "source": [
    "# Using iloc to slice and access elements\n",
    "print(df.iloc[1:1])"
   ]
  },
  {
   "cell_type": "code",
   "execution_count": 13,
   "metadata": {},
   "outputs": [],
   "source": [
    "# Changing a value\n",
    "df.loc[3, 'City'] = 'London'"
   ]
  },
  {
   "cell_type": "code",
   "execution_count": 14,
   "metadata": {},
   "outputs": [
    {
     "name": "stdout",
     "output_type": "stream",
     "text": [
      "     Name  Age    City Gender          Occupation\n",
      "0    John   25  Berlin      M     DevOps Engineer\n",
      "1    Emma   30  Lisbon      F     Cloud Associate\n",
      "2     Bob   18  Dublin      M  Software Developer\n",
      "3  Alioce   21  London      F     Product Manager\n"
     ]
    }
   ],
   "source": [
    "# Adding a new column\n",
    "df['Gender'] = ['M', 'F', 'M', 'F']\n",
    "df['Occupation'] = ['DevOps Engineer', 'Cloud Associate', 'Software Developer', 'Product Manager']\n",
    "print(df)"
   ]
  },
  {
   "cell_type": "code",
   "execution_count": 15,
   "metadata": {},
   "outputs": [
    {
     "name": "stdout",
     "output_type": "stream",
     "text": [
      "   Name  Age    City Gender          Occupation\n",
      "1  Emma   30  Lisbon      F     Cloud Associate\n",
      "2   Bob   18  Dublin      M  Software Developer\n"
     ]
    }
   ],
   "source": [
    "# Slicing rows\n",
    "print(df[1:3])"
   ]
  }
 ],
 "metadata": {
  "kernelspec": {
   "display_name": "Python 3",
   "language": "python",
   "name": "python3"
  },
  "language_info": {
   "codemirror_mode": {
    "name": "ipython",
    "version": 3
   },
   "file_extension": ".py",
   "mimetype": "text/x-python",
   "name": "python",
   "nbconvert_exporter": "python",
   "pygments_lexer": "ipython3",
   "version": "3.9.5"
  },
  "orig_nbformat": 4
 },
 "nbformat": 4,
 "nbformat_minor": 2
}
