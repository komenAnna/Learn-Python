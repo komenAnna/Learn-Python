{
 "cells": [
  {
   "attachments": {},
   "cell_type": "markdown",
   "metadata": {},
   "source": [
    "# PANDAS\n",
    "\n",
    "### Pandas is a library that is used for data analysis and manipulation.\n",
    "### It provides powerful tools for working with structured data.\n",
    "### The main data structures are DataFrames and Series"
   ]
  },
  {
   "cell_type": "code",
   "execution_count": 1,
   "metadata": {},
   "outputs": [
    {
     "name": "stdout",
     "output_type": "stream",
     "text": [
      "     Name  Age    City\n",
      "0    John   25  Berlin\n",
      "1    Emma   30  Lisbon\n",
      "2     Bob   18  Dublin\n",
      "3  Alioce   21   Perth\n"
     ]
    }
   ],
   "source": [
    "# DataFrames Common operations\n",
    "# Creating a DataFrame ---using pd.DataFrame()--- can be created from a dictionary, list of dictionaries, Numpy Array or CVS file\n",
    "import pandas as pd \n",
    "data = {'Name': ['John', 'Emma', 'Bob', 'Alioce'],\n",
    "        'Age': [25, 30, 18, 21],\n",
    "        'City': ['Berlin', 'Lisbon', 'Dublin', 'Perth']}\n",
    "df = pd.DataFrame(data)\n",
    "print(df)\n"
   ]
  },
  {
   "cell_type": "code",
   "execution_count": null,
   "metadata": {},
   "outputs": [],
   "source": []
  }
 ],
 "metadata": {
  "kernelspec": {
   "display_name": "Python 3",
   "language": "python",
   "name": "python3"
  },
  "language_info": {
   "codemirror_mode": {
    "name": "ipython",
    "version": 3
   },
   "file_extension": ".py",
   "mimetype": "text/x-python",
   "name": "python",
   "nbconvert_exporter": "python",
   "pygments_lexer": "ipython3",
   "version": "3.9.5"
  },
  "orig_nbformat": 4
 },
 "nbformat": 4,
 "nbformat_minor": 2
}
