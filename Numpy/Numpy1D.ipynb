{
 "cells": [
  {
   "attachments": {},
   "cell_type": "markdown",
   "metadata": {},
   "source": [
    "# 1D NUMPY"
   ]
  },
  {
   "cell_type": "code",
   "execution_count": 2,
   "metadata": {},
   "outputs": [
    {
     "name": "stdout",
     "output_type": "stream",
     "text": [
      "1\n",
      "two\n",
      "3\n",
      "True\n",
      "['two', 3]\n"
     ]
    }
   ],
   "source": [
    "# Creating a list in python\n",
    "# Lists are containers that can hold data of different types and the elements can be accessed by their index\n",
    "# You can also use indexing to change elements or slice\n",
    "my_list = [1, 'two', 3, True]\n",
    "print(my_list[0])\n",
    "print(my_list[1])\n",
    "print(my_list[2])\n",
    "print(my_list[3])\n",
    "print(my_list[1:3])"
   ]
  },
  {
   "attachments": {},
   "cell_type": "markdown",
   "metadata": {},
   "source": [
    "## What is Numpy?\n",
    "\n",
    "Numerical Python (NumPy) is a python libraray used for scientific computing. It is faster to use and makes use of lesser memory.\n",
    "The array object in NumPy is called ndarray, it provides a lot of supporting functions that make working with ndarray very easy.\n",
    "Arrays are very frequently used in data science, where speed and resources are very important."
   ]
  },
  {
   "cell_type": "code",
   "execution_count": 3,
   "metadata": {},
   "outputs": [],
   "source": [
    "import numpy as np"
   ]
  },
  {
   "cell_type": "code",
   "execution_count": 5,
   "metadata": {},
   "outputs": [
    {
     "name": "stdout",
     "output_type": "stream",
     "text": [
      "[0 1 2 3 4 5]\n",
      "<class 'numpy.ndarray'>\n"
     ]
    },
    {
     "data": {
      "text/plain": [
       "dtype('int32')"
      ]
     },
     "execution_count": 5,
     "metadata": {},
     "output_type": "execute_result"
    }
   ],
   "source": [
    "# Cast a list to numpy note that np arrays only hold data of the int data type\n",
    "a = np.array([0, 1, 2, 3, 4, 5])\n",
    "print(a)\n",
    "\n",
    "# check the type of array\n",
    "print(type(a))\n",
    "\n",
    "# check the data type of the values stored in the array\n",
    "a.dtype"
   ]
  },
  {
   "cell_type": "code",
   "execution_count": 9,
   "metadata": {},
   "outputs": [
    {
     "name": "stdout",
     "output_type": "stream",
     "text": [
      "[1 1 2 3 4 5]\n",
      "[1 2 3 4]\n",
      "[0 2 4 6 8]\n"
     ]
    }
   ],
   "source": [
    "# Change value of an element using indexing\n",
    "a[0] = 1\n",
    "print(a)\n",
    "\n",
    "# Slicing the array to select a part of it--- syntax: [start:end:step]\n",
    "b = a[1:5]\n",
    "print(b)\n",
    "\n",
    "# print the even elements in the array\n",
    "c = np.array([0, 1, 2, 3, 4, 5, 6, 7, 8, 9])\n",
    "even_no = c[0:9:2]\n",
    "print(even_no)"
   ]
  },
  {
   "attachments": {},
   "cell_type": "markdown",
   "metadata": {},
   "source": [
    "### Basic Array attributes"
   ]
  },
  {
   "cell_type": "code",
   "execution_count": 11,
   "metadata": {},
   "outputs": [
    {
     "name": "stdout",
     "output_type": "stream",
     "text": [
      "[1 1 2 3 4 5]\n",
      "6\n",
      "1\n",
      "(6,)\n"
     ]
    }
   ],
   "source": [
    "print(a)\n",
    "# Size of elements of the array\n",
    "print(a.size)\n",
    "\n",
    "# Number of dimensions of an array\n",
    "print(a.ndim)\n",
    "\n",
    "# Shape of the array\n",
    "print(a.shape)"
   ]
  },
  {
   "attachments": {},
   "cell_type": "markdown",
   "metadata": {},
   "source": [
    "### Statistical Functions"
   ]
  },
  {
   "cell_type": "code",
   "execution_count": 12,
   "metadata": {},
   "outputs": [
    {
     "name": "stdout",
     "output_type": "stream",
     "text": [
      "[1 1 2 3 4 5]\n",
      "2.6666666666666665\n",
      "1.49071198499986\n",
      "6\n"
     ]
    }
   ],
   "source": [
    "print(a)\n",
    "\n",
    "# Mean of the numpy array\n",
    "mean_a = a.mean()\n",
    "print(mean_a)\n",
    "\n",
    "# standard deviation\n",
    "sd_a = a.std()\n",
    "print(sd_a)\n",
    "\n",
    "# max and min\n",
    "max_a = a.max()\n",
    "min_a = a.min()\n",
    "sum_max_min = max_a + min_a\n",
    "print(sum_max_min)"
   ]
  },
  {
   "attachments": {},
   "cell_type": "markdown",
   "metadata": {},
   "source": [
    "### Numpy Array Operations"
   ]
  },
  {
   "cell_type": "code",
   "execution_count": 14,
   "metadata": {},
   "outputs": [
    {
     "name": "stdout",
     "output_type": "stream",
     "text": [
      "u: [1 0]\n",
      "v: [0 1]\n",
      "[1 1]\n"
     ]
    }
   ],
   "source": [
    "# Array Addition\n",
    "u = np.array([1, 0])\n",
    "print('u:', u)\n",
    "\n",
    "v = np.array([0, 1])\n",
    "print('v:', v)\n",
    "\n",
    "# We can add the two arrays and assign to z\n",
    "z = np.add(u, v)\n",
    "print(z)\n",
    "\n",
    "# this is equivalent to vetor addition z = [1+0....0+1] = [1 1]"
   ]
  },
  {
   "cell_type": "code",
   "execution_count": 17,
   "metadata": {},
   "outputs": [
    {
     "name": "stdout",
     "output_type": "stream",
     "text": [
      "Requirement already satisfied: matplotlib in c:\\users\\admin\\appdata\\local\\programs\\python\\python39\\lib\\site-packages (3.5.2)\n",
      "Requirement already satisfied: numpy>=1.17 in c:\\users\\admin\\appdata\\local\\programs\\python\\python39\\lib\\site-packages (from matplotlib) (1.23.1)\n",
      "Requirement already satisfied: fonttools>=4.22.0 in c:\\users\\admin\\appdata\\local\\programs\\python\\python39\\lib\\site-packages (from matplotlib) (4.34.4)\n",
      "Requirement already satisfied: cycler>=0.10 in c:\\users\\admin\\appdata\\local\\programs\\python\\python39\\lib\\site-packages (from matplotlib) (0.11.0)\n",
      "Requirement already satisfied: packaging>=20.0 in c:\\users\\admin\\appdata\\local\\programs\\python\\python39\\lib\\site-packages (from matplotlib) (21.3)\n",
      "Requirement already satisfied: kiwisolver>=1.0.1 in c:\\users\\admin\\appdata\\local\\programs\\python\\python39\\lib\\site-packages (from matplotlib) (1.4.3)\n",
      "Requirement already satisfied: pillow>=6.2.0 in c:\\users\\admin\\appdata\\local\\programs\\python\\python39\\lib\\site-packages (from matplotlib) (9.2.0)\n",
      "Requirement already satisfied: pyparsing>=2.2.1 in c:\\users\\admin\\appdata\\local\\programs\\python\\python39\\lib\\site-packages (from matplotlib) (3.0.9)\n",
      "Requirement already satisfied: python-dateutil>=2.7 in c:\\users\\admin\\appdata\\local\\programs\\python\\python39\\lib\\site-packages (from matplotlib) (2.8.2)\n",
      "Requirement already satisfied: six>=1.5 in c:\\users\\admin\\appdata\\local\\programs\\python\\python39\\lib\\site-packages (from python-dateutil>=2.7->matplotlib) (1.16.0)\n",
      "Note: you may need to restart the kernel to use updated packages.\n"
     ]
    },
    {
     "name": "stderr",
     "output_type": "stream",
     "text": [
      "WARNING: You are using pip version 21.1.1; however, version 23.1 is available.\n",
      "You should consider upgrading via the 'c:\\Users\\admin\\AppData\\Local\\Programs\\Python\\Python39\\python.exe -m pip install --upgrade pip' command.\n"
     ]
    }
   ],
   "source": [
    "pip install matplotlib"
   ]
  },
  {
   "cell_type": "code",
   "execution_count": 24,
   "metadata": {},
   "outputs": [
    {
     "data": {
      "image/png": "[encoded data removed]",
      "text/plain": [
       "<Figure size 640x480 with 1 Axes>"
      ]
     },
     "metadata": {},
     "output_type": "display_data"
    }
   ],
   "source": [
    "# Plotting functions\n",
    "import time \n",
    "import sys\n",
    "import numpy as np\n",
    "import matplotlib.pyplot as plt\n",
    "%matplotlib inline \n",
    "def PlotVec1(u, z, v):\n",
    "    ax = plt.axes() # to generate full window axes\n",
    "    # Add an arrow to the  U Axes with arrow head width 0.05, color red and arrow head length 0.1\n",
    "    ax.arrow(0, 0, *u, head_width=0.5, color='r', head_length=0.1)\n",
    "    plt.text(*(u + 0.1), 'u')#Adds the text u to the Axes \n",
    "    # Add an arrow to the  U Axes with arrow head width 0.05, color red and arrow head length 0.1\n",
    "    ax.arrow(0, 0, *v, head_width=0.5, color='g', head_length=0.1)\n",
    "    plt.text(*(v + 0.1), 'v')#Adds the text v to the Axes \n",
    "\n",
    "    ax.arrow(0, 0, *z, head_width=0.05, head_length=0.1)\n",
    "    plt.text(*(z + 0.1), 'z')#Adds the text z to the Axes \n",
    "    plt.ylim(-2, 2)#set the ylim to bottom(0.5), top(3.5)\n",
    "    plt.xlim(-2, 2)#set the xlim to left(0.5), right(3.5)\n",
    "PlotVec1(u, z, v)"
   ]
  },
  {
   "cell_type": "code",
   "execution_count": 25,
   "metadata": {},
   "outputs": [
    {
     "data": {
      "text/plain": [
       "array([10, 10, 10])"
      ]
     },
     "execution_count": 25,
     "metadata": {},
     "output_type": "execute_result"
    }
   ],
   "source": [
    "# Array Subtraction\n",
    "arr1 = np.array([20, 30, 40])\n",
    "arr2 = np.array([10, 20, 30])\n",
    "\n",
    "arr3 = np.subtract(arr1, arr2)\n",
    "arr3"
   ]
  },
  {
   "cell_type": "code",
   "execution_count": 28,
   "metadata": {},
   "outputs": [
    {
     "name": "stdout",
     "output_type": "stream",
     "text": [
      "[ 200  600 1200]\n",
      "[0.5        0.66666667 0.75      ]\n",
      "[40 60 80]\n"
     ]
    }
   ],
   "source": [
    "# Array multiplication(Hardamard Product) \n",
    "arr4 = np.multiply(arr1, arr2)\n",
    "print(arr4)\n",
    "\n",
    "# Array Division\n",
    "arr5 = np.divide(arr2, arr1)\n",
    "print(arr5)\n",
    "\n",
    "# Appay multiplication with a scalar\n",
    "product_with_scalar = 2 * arr1\n",
    "print(product_with_scalar)"
   ]
  },
  {
   "cell_type": "code",
   "execution_count": 31,
   "metadata": {},
   "outputs": [
    {
     "name": "stdout",
     "output_type": "stream",
     "text": [
      "0\n",
      "5\n"
     ]
    }
   ],
   "source": [
    "# Dot Product --- is a scalar number that shows how similar two vectors are.\n",
    "print(np.dot(u, v)) # (1*0)+(0*1) = 0\n",
    "\n",
    "m = np.array([1, 2])\n",
    "n = np.array([3, 1])\n",
    "print(np.dot(m, n)) # (1*3)+(2*1) = 5"
   ]
  },
  {
   "cell_type": "code",
   "execution_count": 33,
   "metadata": {},
   "outputs": [
    {
     "name": "stdout",
     "output_type": "stream",
     "text": [
      "[1 1 2 3 4 5]\n"
     ]
    },
    {
     "data": {
      "text/plain": [
       "array([2, 2, 3, 4, 5, 6])"
      ]
     },
     "execution_count": 33,
     "metadata": {},
     "output_type": "execute_result"
    }
   ],
   "source": [
    "# Broadcasting --- Ading a constant value to the array. Numpy will add that value to each element\n",
    "bc = a + 1\n",
    "print(a)\n",
    "bc"
   ]
  },
  {
   "attachments": {},
   "cell_type": "markdown",
   "metadata": {},
   "source": [
    "### Mathematical Functions"
   ]
  },
  {
   "cell_type": "code",
   "execution_count": 34,
   "metadata": {},
   "outputs": [
    {
     "name": "stdout",
     "output_type": "stream",
     "text": [
      "3.141592653589793\n",
      "[-1  1 -1  1]\n",
      "[-0.84147098  0.84147098 -0.84147098  0.84147098]\n"
     ]
    }
   ],
   "source": [
    "# To find pi\n",
    "print(np.pi)\n",
    "\n",
    "# create a numpy array in radians\n",
    "x = np.array([-1, 1, -1, 1])\n",
    "print(x)\n",
    "# We can apply the function sin to the array x and assign the values to the array y; \n",
    "# this applies the sine function to each element in the array:\n",
    "y = np.sin(x)\n",
    "print(y)"
   ]
  },
  {
   "cell_type": "code",
   "execution_count": 35,
   "metadata": {},
   "outputs": [
    {
     "data": {
      "text/plain": [
       "array([-2. , -1.5, -1. , -0.5,  0. ,  0.5,  1. ,  1.5,  2. ])"
      ]
     },
     "execution_count": 35,
     "metadata": {},
     "output_type": "execute_result"
    }
   ],
   "source": [
    "# LINSPACE\n",
    "# A useful function for plotting mathematical functions is linspace. \n",
    "# Linspace returns evenly spaced numbers over a specified interval.\n",
    "# syntax ---- numpy.linspace(start, stop, num = int value)\n",
    "# start : start of interval range\n",
    "# stop : end of interval range\n",
    "# num : Number of samples to generate.\n",
    "\n",
    "# Make an array between - 2 and 2 with 9 elements\n",
    "np.linspace(-2, 2, 9)"
   ]
  },
  {
   "cell_type": "code",
   "execution_count": 37,
   "metadata": {},
   "outputs": [
    {
     "data": {
      "text/plain": [
       "[<matplotlib.lines.Line2D at 0x1a4409c22b0>]"
      ]
     },
     "execution_count": 37,
     "metadata": {},
     "output_type": "execute_result"
    },
    {
     "data": {
      "image/png": "[encoded data removed]",
      "text/plain": [
       "<Figure size 640x480 with 1 Axes>"
      ]
     },
     "metadata": {},
     "output_type": "display_data"
    }
   ],
   "source": [
    "# Plotting mathematical function using np.linspace, np.pi, np.sin\n",
    "x = np.linspace(0, 2*np.pi, 100)\n",
    "y = np.sin(x)\n",
    "plt.plot(x,y)"
   ]
  }
 ],
 "metadata": {
  "kernelspec": {
   "display_name": "Python 3",
   "language": "python",
   "name": "python3"
  },
  "language_info": {
   "codemirror_mode": {
    "name": "ipython",
    "version": 3
   },
   "file_extension": ".py",
   "mimetype": "text/x-python",
   "name": "python",
   "nbconvert_exporter": "python",
   "pygments_lexer": "ipython3",
   "version": "3.9.5"
  },
  "orig_nbformat": 4
 },
 "nbformat": 4,
 "nbformat_minor": 2
}
