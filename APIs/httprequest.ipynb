{
 "cells": [
  {
   "attachments": {},
   "cell_type": "markdown",
   "metadata": {},
   "source": [
    "# HTTP AND REQUESTS \n",
    "\n",
    "### Objectives\n",
    "##### Understand HTTPS\n",
    "##### Handle HTTP Requests"
   ]
  },
  {
   "cell_type": "code",
   "execution_count": 1,
   "metadata": {},
   "outputs": [],
   "source": [
    "# When I, use a web page on my browser to send a request to the server hosting the web page, the server tries to find the\n",
    "# the desired resource by default 'index.html'. If the request is successful, the server will send the object to the client via \n",
    "# an HTTP response. This includes information like the type of resurce, the length of the resouce and other information.\n",
    "\n",
    "# The HTTP protocol allows you to send and receive information through the web including \n",
    "# webpages, images, and other web resources.\n",
    "\n",
    "## URL\n",
    "\n",
    "# Uniform Resource Locator(URL) is the most popular way to find resources in the web. We can break URl INTO 3 PARTS:\n",
    "  # Scheme -- this is this protocol, for this lab it will always be http://\n",
    "  # Internet address or Base URL -- this will be used to find the location here are some examples: www.ibm.com and  www.gitlab.com\n",
    "  # Route location on the web server -- for example: /images/IDSNlogo.png\n",
    "# You may also hear the term Uniform Resource Identifier (URI), URL are actually a subset of URIs. \n",
    "# Another popular term is endpoint, this is the URL of an operation provided by a Web server."
   ]
  },
  {
   "attachments": {},
   "cell_type": "markdown",
   "metadata": {},
   "source": [
    "##### Requests"
   ]
  },
  {
   "cell_type": "code",
   "execution_count": 5,
   "metadata": {},
   "outputs": [],
   "source": [
    "# HTTP request methods tells the server what action to perform\n",
    "# Methods                       Description\n",
    "    # GET                       Retrieves data from the server\n",
    "    # POST                      Submits data to the server\n",
    "    # PUT                       Updates data already on the server\n",
    "    # DELETE                    Deletes data from the server"
   ]
  },
  {
   "attachments": {},
   "cell_type": "markdown",
   "metadata": {},
   "source": [
    "##### Response"
   ]
  },
  {
   "cell_type": "code",
   "execution_count": 6,
   "metadata": {},
   "outputs": [],
   "source": [
    "# The response is what the server retrives to the client.\n",
    "# Some status code examples are shown in the table below, the prefix indicates the class. \n",
    "# These without ** are actual codes, while those with ** are prefixes of codes indicating the class.\n",
    "# 1** --- Informational\n",
    "# 2** --- Success\n",
    "# 200 --- OK\n",
    "# 3** --- Redirection\n",
    "# 4** --- Client Error\n",
    "# 401 --- Unauthorized\n",
    "# 403 --- Forbiddden\n",
    "# 404 --- Not found\n",
    "# 500 --- Internal Server Error"
   ]
  },
  {
   "attachments": {},
   "cell_type": "markdown",
   "metadata": {},
   "source": [
    "#### Requests in Python"
   ]
  },
  {
   "cell_type": "code",
   "execution_count": 7,
   "metadata": {},
   "outputs": [],
   "source": [
    "# Requests is a Python Library that allows you to send HTTP/1.1 requests easily. We can import the library as follows:\n",
    "import requests\n",
    "import os\n",
    "from PIL import Image\n",
    "from IPython.display import IFrame"
   ]
  },
  {
   "cell_type": "code",
   "execution_count": 8,
   "metadata": {},
   "outputs": [],
   "source": [
    "# use the GET method to request\n",
    "url = 'https://www.ibm.com/'\n",
    "r = requests.get(url)"
   ]
  },
  {
   "cell_type": "code",
   "execution_count": 9,
   "metadata": {},
   "outputs": [
    {
     "data": {
      "text/plain": [
       "200"
      ]
     },
     "execution_count": 9,
     "metadata": {},
     "output_type": "execute_result"
    }
   ],
   "source": [
    "# We have the response object r, this has information about the request, like the status of the request. \n",
    "# We can view the status code using the attribute status_code.\n",
    "r.status_code"
   ]
  },
  {
   "cell_type": "code",
   "execution_count": 10,
   "metadata": {},
   "outputs": [
    {
     "name": "stdout",
     "output_type": "stream",
     "text": [
      "request headers:  {'User-Agent': 'python-requests/2.28.1', 'Accept-Encoding': 'gzip, deflate', 'Accept': '*/*', 'Connection': 'keep-alive', 'Cookie': '_abck=565F4BE9EA0745BDE08CB869306ACC16~-1~YAAQNJ82F28+TOaHAQAAroBI7QkXlgKDGvNosRqGWxKJC7OiWreSNe1odiez3EaPQ/7k7pz5kUn2cc8zdl8URaPZIVI4bjq3YtoulFdgaEET5WgnJRPXyk6kup3tN4kv+u8DrymZgV4cCjW6cMW75TZHceht1zfS85x26D9sJ161KhCCvFPiJdahbKrmQl18qFxVzrwG0H/JURyyFCFyMOxnn1dBppt91PB9jyq4Q8bPjC5KoyhZIIkvfUMtak6+1khvsm3MzxpF3MwfyIMIQYti4QVh06OE0bQUeHTb8q37Ieq3EKN8EnZQgpNKs0y896oJJDMSiwQ0PLJkUmXyHGarSn/V3yDEoFtNXaqiYlD0LG5nsA0=~-1~-1~-1; bm_sz=C27750537E82F9622BE54E9248A984F8~YAAQNJ82F3A+TOaHAQAAroBI7ROSJi7NvliVJ60mDpWprzE6qUEVOf8MRBxilrSkhuUDGalN0CTY6iE68PsBF8x0ww5tetB2Bwcf8jxWiKYU8fYnnfQ02ejtvkFzx9quDBeLayGXJ5Bv08gWtpbUkez4JbWn/6Vh7bHkqUYD/aUuTAwYgiSBthAHm7LjZi8D7v66bjEzJbzv0x8+pyJG+H11Iqx8TSRU0E/xVUA1Dv6UNSXmAmE8y/nT/inyiEzbIL3tAdoC60/479ZTDz3Q0a95MjQ6hNxaoNiynfG2SDI=~3686711~3290945'}\n"
     ]
    }
   ],
   "source": [
    "# View the request headers\n",
    "r_headers = r.request.headers\n",
    "print('request headers: ', r_headers)"
   ]
  },
  {
   "cell_type": "code",
   "execution_count": 12,
   "metadata": {},
   "outputs": [
    {
     "name": "stdout",
     "output_type": "stream",
     "text": [
      "request body:  None\n"
     ]
    }
   ],
   "source": [
    "# view the request boy\n",
    "r_body = r.request.body\n",
    "print('request body: ',r_body)"
   ]
  },
  {
   "cell_type": "code",
   "execution_count": 13,
   "metadata": {},
   "outputs": [
    {
     "name": "stdout",
     "output_type": "stream",
     "text": [
      "{'Accept-Ranges': 'bytes', 'Content-Type': 'text/html', 'ETag': '\"adcc0211a0ed925265dd5f9efe9accc7:1683301922.858964\"', 'Last-Modified': 'Fri, 05 May 2023 15:43:41 GMT', 'Server': 'AkamaiNetStorage', 'Cache-Control': 'max-age=3600', 'Expires': 'Fri, 05 May 2023 19:59:25 GMT', 'X-Akamai-Transformed': '9 18318 0 pmb=mTOE,2', 'Content-Encoding': 'gzip', 'Date': 'Fri, 05 May 2023 18:59:25 GMT', 'Content-Length': '18511', 'Connection': 'keep-alive', 'Vary': 'Accept-Encoding', 'x-content-type-options': 'nosniff', 'X-XSS-Protection': '1; mode=block', 'Content-Security-Policy': 'upgrade-insecure-requests', 'Strict-Transport-Security': 'max-age=31536000'}\n"
     ]
    }
   ],
   "source": [
    "# You can view the HTTP response header using the attribute headers. This returns a python dictionary of HTTP response headers.\n",
    "headers = r.headers\n",
    "print(headers)"
   ]
  },
  {
   "cell_type": "code",
   "execution_count": 14,
   "metadata": {},
   "outputs": [
    {
     "data": {
      "text/plain": [
       "'Fri, 05 May 2023 18:59:25 GMT'"
      ]
     },
     "execution_count": 14,
     "metadata": {},
     "output_type": "execute_result"
    }
   ],
   "source": [
    "headers['date']"
   ]
  }
 ],
 "metadata": {
  "kernelspec": {
   "display_name": "Python 3",
   "language": "python",
   "name": "python3"
  },
  "language_info": {
   "codemirror_mode": {
    "name": "ipython",
    "version": 3
   },
   "file_extension": ".py",
   "mimetype": "text/x-python",
   "name": "python",
   "nbconvert_exporter": "python",
   "pygments_lexer": "ipython3",
   "version": "3.9.5"
  },
  "orig_nbformat": 4
 },
 "nbformat": 4,
 "nbformat_minor": 2
}
