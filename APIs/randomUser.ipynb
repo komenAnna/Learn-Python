{
 "cells": [
  {
   "attachments": {},
   "cell_type": "markdown",
   "metadata": {},
   "source": [
    "## Simple Random User API\n",
    "\n",
    "#### Load and use RandomUser API, using RandomUser() Python library"
   ]
  },
  {
   "attachments": {},
   "cell_type": "markdown",
   "metadata": {},
   "source": [
    "API stands for Application Programming Interface and is a software intermediary that allows two applications to talk to each other.\n",
    "\n",
    "The advantages of using APIs:\n",
    "\n",
    "Automation. Less human effort is required and workflows can be easily updated to become faster and more\n",
    "productive.\n",
    "\n",
    "Efficiency. It allows to use the capabilities of one of the already developed APIs than to try to independently implement some functionality from scratch.\n",
    "\n",
    "The disadvantage of using APIs:\n",
    "\n",
    "Security. If the API is poorly integrated, it means it will be vulnerable to attacks, resulting in data\n",
    "breeches or losses having financial or reputation implications."
   ]
  },
  {
   "attachments": {},
   "cell_type": "markdown",
   "metadata": {},
   "source": [
    "RandomUser is an open-source, free API providing developers with randomly generated users to be used as placeholders for testing purposes. It is similar to Lorem Ipsum but for people instead of text. The API can run multiple results as well as specify user generated details such as gender, email, image, username address, title, first and last name and more.\n",
    "\n",
    "#### Get methods that can be used with the API:\n",
    "get_cell(), get_city(), get_dob(), get_email(), get_first_name(), get_full_name(), get_gender(), get_id(), get_id_number(),\n",
    "get_id_type(), get_info(), get_last_name(), get_login_md5(), get_login_salt(), get_login_sha1(), get_login_sha256(),\n",
    "get_nat(), get_password(), get_phone(), get_picture(), get_postcode(), get_registered(), get_state(), get_street(),\n",
    "get_username(), get_zipcode()\n"
   ]
  },
  {
   "cell_type": "code",
   "execution_count": 2,
   "metadata": {},
   "outputs": [
    {
     "name": "stdout",
     "output_type": "stream",
     "text": [
      "Collecting randomuser\n",
      "  Downloading randomuser-1.6.tar.gz (5.0 kB)\n",
      "Using legacy 'setup.py install' for randomuser, since package 'wheel' is not installed.\n",
      "Installing collected packages: randomuser\n",
      "    Running setup.py install for randomuser: started\n",
      "    Running setup.py install for randomuser: finished with status 'done'\n",
      "Successfully installed randomuser-1.6\n",
      "Note: you may need to restart the kernel to use updated packages.\n"
     ]
    },
    {
     "name": "stderr",
     "output_type": "stream",
     "text": [
      "WARNING: You are using pip version 21.1.1; however, version 23.1.2 is available.\n",
      "You should consider upgrading via the 'c:\\Users\\admin\\AppData\\Local\\Programs\\Python\\Python39\\python.exe -m pip install --upgrade pip' command.\n"
     ]
    }
   ],
   "source": [
    "# To get started, we install the randomuser library using pip install\n",
    "%pip install randomuser"
   ]
  },
  {
   "cell_type": "code",
   "execution_count": 3,
   "metadata": {},
   "outputs": [],
   "source": [
    "# Load the necessary modules\n",
    "from randomuser import RandomUser\n",
    "import pandas as pd"
   ]
  },
  {
   "cell_type": "code",
   "execution_count": 4,
   "metadata": {},
   "outputs": [
    {
     "data": {
      "text/plain": [
       "[<randomuser.RandomUser at 0x21f20b98d60>,\n",
       " <randomuser.RandomUser at 0x21f28e65d90>,\n",
       " <randomuser.RandomUser at 0x21f28e65f40>,\n",
       " <randomuser.RandomUser at 0x21f28e65d30>,\n",
       " <randomuser.RandomUser at 0x21f28e65f70>,\n",
       " <randomuser.RandomUser at 0x21f28e65e50>,\n",
       " <randomuser.RandomUser at 0x21f28e65fa0>,\n",
       " <randomuser.RandomUser at 0x21f28e65fd0>,\n",
       " <randomuser.RandomUser at 0x21f28e9c040>,\n",
       " <randomuser.RandomUser at 0x21f28e9c070>]"
      ]
     },
     "execution_count": 4,
     "metadata": {},
     "output_type": "execute_result"
    }
   ],
   "source": [
    "# Initialize an object from RandomUser\n",
    "r = RandomUser()\n",
    "\n",
    "# Using generate_users() function, generate a list of 10 random users\n",
    "users_list = r.generate_users(10)\n",
    "users_list"
   ]
  },
  {
   "cell_type": "code",
   "execution_count": 6,
   "metadata": {},
   "outputs": [
    {
     "data": {
      "text/plain": [
       "'Mathias Jensen'"
      ]
     },
     "execution_count": 6,
     "metadata": {},
     "output_type": "execute_result"
    }
   ],
   "source": [
    "# To get specific data about the users we use the get methods shown above to retrieve the data\n",
    "user_name = r.get_full_name()\n",
    "user_name"
   ]
  },
  {
   "cell_type": "code",
   "execution_count": 30,
   "metadata": {},
   "outputs": [
    {
     "data": {
      "text/html": [
       "<div>\n",
       "<style scoped>\n",
       "    .dataframe tbody tr th:only-of-type {\n",
       "        vertical-align: middle;\n",
       "    }\n",
       "\n",
       "    .dataframe tbody tr th {\n",
       "        vertical-align: top;\n",
       "    }\n",
       "\n",
       "    .dataframe thead th {\n",
       "        text-align: right;\n",
       "    }\n",
       "</style>\n",
       "<table border=\"1\" class=\"dataframe\">\n",
       "  <thead>\n",
       "    <tr style=\"text-align: right;\">\n",
       "      <th></th>\n",
       "      <th>id no.</th>\n",
       "      <th>name</th>\n",
       "      <th>email</th>\n",
       "      <th>password</th>\n",
       "    </tr>\n",
       "  </thead>\n",
       "  <tbody>\n",
       "    <tr>\n",
       "      <th>0</th>\n",
       "      <td>None</td>\n",
       "      <td>Ariane Brown</td>\n",
       "      <td>ariane.brown@example.com</td>\n",
       "      <td>lionking</td>\n",
       "    </tr>\n",
       "    <tr>\n",
       "      <th>1</th>\n",
       "      <td>918-86-4851</td>\n",
       "      <td>Bill Reyes</td>\n",
       "      <td>bill.reyes@example.com</td>\n",
       "      <td>sales</td>\n",
       "    </tr>\n",
       "    <tr>\n",
       "      <th>2</th>\n",
       "      <td>1476378T</td>\n",
       "      <td>Gene Williams</td>\n",
       "      <td>gene.williams@example.com</td>\n",
       "      <td>strength</td>\n",
       "    </tr>\n",
       "    <tr>\n",
       "      <th>3</th>\n",
       "      <td>88702026</td>\n",
       "      <td>Ellenoor Haaksman</td>\n",
       "      <td>ellenoor.haaksman@example.com</td>\n",
       "      <td>444444</td>\n",
       "    </tr>\n",
       "    <tr>\n",
       "      <th>4</th>\n",
       "      <td>756.3867.2528.11</td>\n",
       "      <td>Mateo Brunet</td>\n",
       "      <td>mateo.brunet@example.com</td>\n",
       "      <td>michael2</td>\n",
       "    </tr>\n",
       "    <tr>\n",
       "      <th>5</th>\n",
       "      <td>22855985-I</td>\n",
       "      <td>Alfredo Calvo</td>\n",
       "      <td>alfredo.calvo@example.com</td>\n",
       "      <td>goat</td>\n",
       "    </tr>\n",
       "    <tr>\n",
       "      <th>6</th>\n",
       "      <td>None</td>\n",
       "      <td>Lea Young</td>\n",
       "      <td>lea.young@example.com</td>\n",
       "      <td>hydro</td>\n",
       "    </tr>\n",
       "    <tr>\n",
       "      <th>7</th>\n",
       "      <td>None</td>\n",
       "      <td>Esat Adal</td>\n",
       "      <td>esat.adal@example.com</td>\n",
       "      <td>corn</td>\n",
       "    </tr>\n",
       "    <tr>\n",
       "      <th>8</th>\n",
       "      <td>None</td>\n",
       "      <td>Nathaniel Clarke</td>\n",
       "      <td>nathaniel.clarke@example.com</td>\n",
       "      <td>tommy</td>\n",
       "    </tr>\n",
       "    <tr>\n",
       "      <th>9</th>\n",
       "      <td>848-66-1627</td>\n",
       "      <td>Melanie Garza</td>\n",
       "      <td>melanie.garza@example.com</td>\n",
       "      <td>sneaky</td>\n",
       "    </tr>\n",
       "  </tbody>\n",
       "</table>\n",
       "</div>"
      ],
      "text/plain": [
       "             id no.               name                          email  \\\n",
       "0              None       Ariane Brown       ariane.brown@example.com   \n",
       "1       918-86-4851         Bill Reyes         bill.reyes@example.com   \n",
       "2          1476378T      Gene Williams      gene.williams@example.com   \n",
       "3          88702026  Ellenoor Haaksman  ellenoor.haaksman@example.com   \n",
       "4  756.3867.2528.11       Mateo Brunet       mateo.brunet@example.com   \n",
       "5        22855985-I      Alfredo Calvo      alfredo.calvo@example.com   \n",
       "6              None          Lea Young          lea.young@example.com   \n",
       "7              None          Esat Adal          esat.adal@example.com   \n",
       "8              None   Nathaniel Clarke   nathaniel.clarke@example.com   \n",
       "9       848-66-1627      Melanie Garza      melanie.garza@example.com   \n",
       "\n",
       "   password  \n",
       "0  lionking  \n",
       "1     sales  \n",
       "2  strength  \n",
       "3    444444  \n",
       "4  michael2  \n",
       "5      goat  \n",
       "6     hydro  \n",
       "7      corn  \n",
       "8     tommy  \n",
       "9    sneaky  "
      ]
     },
     "execution_count": 30,
     "metadata": {},
     "output_type": "execute_result"
    }
   ],
   "source": [
    "# to generate the names and age of the 10 users\n",
    "my_data = []\n",
    "for user in users_list:\n",
    "    #print(user.get_full_name(), '', user.get_email(), '', user.get_password())\n",
    "    data = {'id no.':user.get_id_number(),'name':user.get_full_name(), 'email':user.get_email(), 'password':user.get_password()}\n",
    "    my_data.append(data)\n",
    "df = pd.DataFrame(my_data)\n",
    "df"
   ]
  },
  {
   "cell_type": "code",
   "execution_count": 36,
   "metadata": {},
   "outputs": [
    {
     "data": {
      "text/html": [
       "<div>\n",
       "<style scoped>\n",
       "    .dataframe tbody tr th:only-of-type {\n",
       "        vertical-align: middle;\n",
       "    }\n",
       "\n",
       "    .dataframe tbody tr th {\n",
       "        vertical-align: top;\n",
       "    }\n",
       "\n",
       "    .dataframe thead th {\n",
       "        text-align: right;\n",
       "    }\n",
       "</style>\n",
       "<table border=\"1\" class=\"dataframe\">\n",
       "  <thead>\n",
       "    <tr style=\"text-align: right;\">\n",
       "      <th></th>\n",
       "      <th>id no.</th>\n",
       "      <th>name</th>\n",
       "      <th>email</th>\n",
       "      <th>password</th>\n",
       "    </tr>\n",
       "  </thead>\n",
       "  <tbody>\n",
       "    <tr>\n",
       "      <th>0</th>\n",
       "      <td>None</td>\n",
       "      <td>Ariane Brown</td>\n",
       "      <td>ariane.brown@example.com</td>\n",
       "      <td>lionking</td>\n",
       "    </tr>\n",
       "    <tr>\n",
       "      <th>1</th>\n",
       "      <td>918-86-4851</td>\n",
       "      <td>Bill Reyes</td>\n",
       "      <td>bill.reyes@example.com</td>\n",
       "      <td>sales</td>\n",
       "    </tr>\n",
       "    <tr>\n",
       "      <th>2</th>\n",
       "      <td>1476378T</td>\n",
       "      <td>Gene Williams</td>\n",
       "      <td>gene.williams@example.com</td>\n",
       "      <td>strength</td>\n",
       "    </tr>\n",
       "    <tr>\n",
       "      <th>3</th>\n",
       "      <td>88702026</td>\n",
       "      <td>Ellenoor Haaksman</td>\n",
       "      <td>ellenoor.haaksman@example.com</td>\n",
       "      <td>444444</td>\n",
       "    </tr>\n",
       "    <tr>\n",
       "      <th>4</th>\n",
       "      <td>756.3867.2528.11</td>\n",
       "      <td>Mateo Brunet</td>\n",
       "      <td>mateo.brunet@example.com</td>\n",
       "      <td>michael2</td>\n",
       "    </tr>\n",
       "    <tr>\n",
       "      <th>5</th>\n",
       "      <td>22855985-I</td>\n",
       "      <td>Alfredo Calvo</td>\n",
       "      <td>alfredo.calvo@example.com</td>\n",
       "      <td>goat</td>\n",
       "    </tr>\n",
       "    <tr>\n",
       "      <th>6</th>\n",
       "      <td>None</td>\n",
       "      <td>Lea Young</td>\n",
       "      <td>lea.young@example.com</td>\n",
       "      <td>hydro</td>\n",
       "    </tr>\n",
       "    <tr>\n",
       "      <th>7</th>\n",
       "      <td>None</td>\n",
       "      <td>Esat Adal</td>\n",
       "      <td>esat.adal@example.com</td>\n",
       "      <td>corn</td>\n",
       "    </tr>\n",
       "    <tr>\n",
       "      <th>8</th>\n",
       "      <td>None</td>\n",
       "      <td>Nathaniel Clarke</td>\n",
       "      <td>nathaniel.clarke@example.com</td>\n",
       "      <td>tommy</td>\n",
       "    </tr>\n",
       "    <tr>\n",
       "      <th>9</th>\n",
       "      <td>848-66-1627</td>\n",
       "      <td>Melanie Garza</td>\n",
       "      <td>melanie.garza@example.com</td>\n",
       "      <td>sneaky</td>\n",
       "    </tr>\n",
       "  </tbody>\n",
       "</table>\n",
       "</div>"
      ],
      "text/plain": [
       "             id no.               name                          email  \\\n",
       "0              None       Ariane Brown       ariane.brown@example.com   \n",
       "1       918-86-4851         Bill Reyes         bill.reyes@example.com   \n",
       "2          1476378T      Gene Williams      gene.williams@example.com   \n",
       "3          88702026  Ellenoor Haaksman  ellenoor.haaksman@example.com   \n",
       "4  756.3867.2528.11       Mateo Brunet       mateo.brunet@example.com   \n",
       "5        22855985-I      Alfredo Calvo      alfredo.calvo@example.com   \n",
       "6              None          Lea Young          lea.young@example.com   \n",
       "7              None          Esat Adal          esat.adal@example.com   \n",
       "8              None   Nathaniel Clarke   nathaniel.clarke@example.com   \n",
       "9       848-66-1627      Melanie Garza      melanie.garza@example.com   \n",
       "\n",
       "   password  \n",
       "0  lionking  \n",
       "1     sales  \n",
       "2  strength  \n",
       "3    444444  \n",
       "4  michael2  \n",
       "5      goat  \n",
       "6     hydro  \n",
       "7      corn  \n",
       "8     tommy  \n",
       "9    sneaky  "
      ]
     },
     "execution_count": 36,
     "metadata": {},
     "output_type": "execute_result"
    }
   ],
   "source": [
    "df.drop('id no.', axis='columns')\n",
    "df"
   ]
  },
  {
   "cell_type": "code",
   "execution_count": 37,
   "metadata": {},
   "outputs": [
    {
     "name": "stdout",
     "output_type": "stream",
     "text": [
      "https://randomuser.me/api/portraits/women/95.jpg\n"
     ]
    }
   ],
   "source": [
    "for user in users_list:\n",
    "    print(user.get_picture())\n",
    "    break"
   ]
  },
  {
   "cell_type": "code",
   "execution_count": null,
   "metadata": {},
   "outputs": [],
   "source": []
  }
 ],
 "metadata": {
  "kernelspec": {
   "display_name": "Python 3",
   "language": "python",
   "name": "python3"
  },
  "language_info": {
   "codemirror_mode": {
    "name": "ipython",
    "version": 3
   },
   "file_extension": ".py",
   "mimetype": "text/x-python",
   "name": "python",
   "nbconvert_exporter": "python",
   "pygments_lexer": "ipython3",
   "version": "3.9.5"
  },
  "orig_nbformat": 4
 },
 "nbformat": 4,
 "nbformat_minor": 2
}
